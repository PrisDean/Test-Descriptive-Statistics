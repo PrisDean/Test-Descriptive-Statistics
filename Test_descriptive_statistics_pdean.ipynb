{
  "nbformat": 4,
  "nbformat_minor": 0,
  "metadata": {
    "colab": {
      "name": "Untitled0.ipynb",
      "private_outputs": true,
      "provenance": [],
      "authorship_tag": "ABX9TyNKkpiAYsL/I3gW5U7JWwBh",
      "include_colab_link": true
    },
    "kernelspec": {
      "name": "python3",
      "display_name": "Python 3"
    }
  },
  "cells": [
    {
      "cell_type": "markdown",
      "metadata": {
        "id": "view-in-github",
        "colab_type": "text"
      },
      "source": [
        "<a href=\"https://colab.research.google.com/github/PrisDean/Test-Descriptive-Statistics/blob/main/Test_descriptive_statistics_pdean.ipynb\" target=\"_parent\"><img src=\"https://colab.research.google.com/assets/colab-badge.svg\" alt=\"Open In Colab\"/></a>"
      ]
    },
    {
      "cell_type": "code",
      "metadata": {
        "id": "DclKBVROjMpS"
      },
      "source": [
        ""
      ],
      "execution_count": null,
      "outputs": []
    },
    {
      "cell_type": "code",
      "metadata": {
        "id": "g16Hw_c8xP3O"
      },
      "source": [
        "import math\r\n",
        "houseprices_df = pd.read_csv(\"https://tf-assets-prod.s3.amazonaws.com/tf-curric/data-science/houseprices.csv\")\r\n",
        "shape_df = houseprices_df.shape\r\n",
        "print(shape_df)\r\n",
        "info_df = houseprices_df.info()\r\n",
        "print(info_df)\r\n",
        "#null_rows = houseprices_df[houseprices_df.isnull().any(axis = 1 )]\r\n",
        "#null_rows.info()\r\n",
        "houseprices_df[\"mszoning\"].nunique()\r\n",
        "houseprices_df[\"street\"].nunique()\r\n",
        "#clean_projecct = houseprices_df\r\n",
        "houseprices_df[\"saleprice\"].describe()\r\n",
        "houseprices_df[\"lotarea\"].describe()\r\n",
        "houseprices_df[\"openporchsf\"].corr(houseprices_df[\"enclosedporch\"])\r\n",
        "stats.ttest_ind(houseprices_df[\"openporchsf\"], houseprices_df[\"enclosedporch\"])"
      ],
      "execution_count": null,
      "outputs": []
    }
  ]
}